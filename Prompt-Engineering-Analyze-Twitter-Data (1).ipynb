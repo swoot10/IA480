{
 "cells": [
  {
   "cell_type": "markdown",
   "id": "119a978c-794a-42a7-8926-cda6871c8613",
   "metadata": {},
   "source": [
    "# Prompt Engineering: Use OpenAI to Analyze Twitter Data \n",
    "This is a simple tutorial teaching prompt engineering basics and analyzing Twitter data with OpenAI large language models (LLM).\n",
    "Please purchase an [OpenAI API](https://openai.com/index/openai-api/) and store it in a safe place. This tutorial uses [AWS Secretes Manager](https://aws.amazon.com/secrets-manager/) to store the API keys.  "
   ]
  },
  {
   "cell_type": "markdown",
   "id": "15700978-787e-407e-a940-c977a71b3044",
   "metadata": {},
   "source": [
    "## Large Language Model Basics\n",
    "LLM repeatable predicts the next world using supervised learning. To predict the following sentence: \n",
    "\n",
    "`Learning data science in the cloud with AI`\n",
    "\n",
    "A model needs to learn to predict the following steps:\n",
    "\n",
    "|Input|Output|\n",
    "|:---|---|\n",
    "|Learning data science |in |\n",
    "|Learning data science in |the | \n",
    "|Learning data science in the |cloud |\n",
    "|Learning data science in the cloud |with |\n",
    "|Learning data science in the cloud with |AI|\n",
    "\n",
    "To train an LLM model:\n",
    "1. Training a base LLM model on a large amount of training data to predict the next word \n",
    "2. Fine-tune on examples where outputs follow instructions in the input \n",
    "3. Human rates quality of different LLM outputs \n",
    "4. Tune LLM to generate outputs with higher rates using RLHF (Reinforcement learning from human feedback)"
   ]
  },
  {
   "cell_type": "markdown",
   "id": "f7726290-4f69-4f9f-94d4-18b9c8f26f14",
   "metadata": {},
   "source": [
    "## Set up OpenAI Models"
   ]
  },
  {
   "cell_type": "markdown",
   "id": "b9019645-db86-4235-93e7-cbd52e770afc",
   "metadata": {},
   "source": [
    "Load the API keys with AWS Secrets Manage Function "
   ]
  },
  {
   "cell_type": "code",
   "execution_count": 8,
   "id": "845f6d31-1f82-47e5-9fa4-de3da8aa068a",
   "metadata": {
    "tags": []
   },
   "outputs": [],
   "source": [
    "import boto3\n",
    "from botocore.exceptions import ClientError\n",
    "import json\n",
    "\n",
    "def get_secret(secret_name):\n",
    "    region_name = \"us-east-1\"\n",
    "\n",
    "    # Create a Secrets Manager client\n",
    "    session = boto3.session.Session()\n",
    "    client = session.client(\n",
    "        service_name='secretsmanager',\n",
    "        region_name=region_name\n",
    "    )\n",
    "\n",
    "    try:\n",
    "        get_secret_value_response = client.get_secret_value(\n",
    "            SecretId=secret_name\n",
    "        )\n",
    "    except ClientError as e:\n",
    "        raise e\n",
    "\n",
    "    secret = get_secret_value_response['SecretString']\n",
    "    \n",
    "    return json.loads(secret)"
   ]
  },
  {
   "cell_type": "markdown",
   "id": "92790e72-aea1-4acc-b98d-a6782550777c",
   "metadata": {},
   "source": [
    "## Install Python libraries.\n",
    "\n",
    "- pymongo: manage the MongoDB database\n",
    "- openai: call the OpenAI APIs."
   ]
  },
  {
   "cell_type": "code",
   "execution_count": 2,
   "id": "75d4f923-3b7c-4bd2-945a-1fbda250e8df",
   "metadata": {
    "scrolled": true,
    "tags": []
   },
   "outputs": [
    {
     "name": "stdout",
     "output_type": "stream",
     "text": [
      "Collecting openai\n",
      "  Downloading openai-1.70.0-py3-none-any.whl.metadata (25 kB)\n",
      "Requirement already satisfied: anyio<5,>=3.5.0 in /home/ec2-user/anaconda3/envs/python3/lib/python3.10/site-packages (from openai) (4.8.0)\n",
      "Collecting distro<2,>=1.7.0 (from openai)\n",
      "  Downloading distro-1.9.0-py3-none-any.whl.metadata (6.8 kB)\n",
      "Requirement already satisfied: httpx<1,>=0.23.0 in /home/ec2-user/anaconda3/envs/python3/lib/python3.10/site-packages (from openai) (0.28.1)\n",
      "Collecting jiter<1,>=0.4.0 (from openai)\n",
      "  Downloading jiter-0.9.0-cp310-cp310-manylinux_2_17_x86_64.manylinux2014_x86_64.whl.metadata (5.2 kB)\n",
      "Requirement already satisfied: pydantic<3,>=1.9.0 in /home/ec2-user/anaconda3/envs/python3/lib/python3.10/site-packages (from openai) (2.10.6)\n",
      "Requirement already satisfied: sniffio in /home/ec2-user/anaconda3/envs/python3/lib/python3.10/site-packages (from openai) (1.3.1)\n",
      "Requirement already satisfied: tqdm>4 in /home/ec2-user/anaconda3/envs/python3/lib/python3.10/site-packages (from openai) (4.67.1)\n",
      "Requirement already satisfied: typing-extensions<5,>=4.11 in /home/ec2-user/anaconda3/envs/python3/lib/python3.10/site-packages (from openai) (4.12.2)\n",
      "Requirement already satisfied: exceptiongroup>=1.0.2 in /home/ec2-user/anaconda3/envs/python3/lib/python3.10/site-packages (from anyio<5,>=3.5.0->openai) (1.2.2)\n",
      "Requirement already satisfied: idna>=2.8 in /home/ec2-user/anaconda3/envs/python3/lib/python3.10/site-packages (from anyio<5,>=3.5.0->openai) (3.10)\n",
      "Requirement already satisfied: certifi in /home/ec2-user/anaconda3/envs/python3/lib/python3.10/site-packages (from httpx<1,>=0.23.0->openai) (2025.1.31)\n",
      "Requirement already satisfied: httpcore==1.* in /home/ec2-user/anaconda3/envs/python3/lib/python3.10/site-packages (from httpx<1,>=0.23.0->openai) (1.0.7)\n",
      "Requirement already satisfied: h11<0.15,>=0.13 in /home/ec2-user/anaconda3/envs/python3/lib/python3.10/site-packages (from httpcore==1.*->httpx<1,>=0.23.0->openai) (0.14.0)\n",
      "Requirement already satisfied: annotated-types>=0.6.0 in /home/ec2-user/anaconda3/envs/python3/lib/python3.10/site-packages (from pydantic<3,>=1.9.0->openai) (0.7.0)\n",
      "Requirement already satisfied: pydantic-core==2.27.2 in /home/ec2-user/anaconda3/envs/python3/lib/python3.10/site-packages (from pydantic<3,>=1.9.0->openai) (2.27.2)\n",
      "Downloading openai-1.70.0-py3-none-any.whl (599 kB)\n",
      "\u001b[2K   \u001b[90m━━━━━━━━━━━━━━━━━━━━━━━━━━━━━━━━━━━━━━━━\u001b[0m \u001b[32m599.1/599.1 kB\u001b[0m \u001b[31m53.0 MB/s\u001b[0m eta \u001b[36m0:00:00\u001b[0m\n",
      "\u001b[?25hDownloading distro-1.9.0-py3-none-any.whl (20 kB)\n",
      "Downloading jiter-0.9.0-cp310-cp310-manylinux_2_17_x86_64.manylinux2014_x86_64.whl (352 kB)\n",
      "Installing collected packages: jiter, distro, openai\n",
      "Successfully installed distro-1.9.0 jiter-0.9.0 openai-1.70.0\n",
      "Note: you may need to restart the kernel to use updated packages.\n"
     ]
    }
   ],
   "source": [
    "pip install openai"
   ]
  },
  {
   "cell_type": "code",
   "execution_count": 3,
   "id": "3e1ab01b-f2f1-4c10-8936-7dca341af6af",
   "metadata": {
    "tags": []
   },
   "outputs": [
    {
     "name": "stdout",
     "output_type": "stream",
     "text": [
      "Collecting pymongo\n",
      "  Downloading pymongo-4.11.3-cp310-cp310-manylinux_2_17_x86_64.manylinux2014_x86_64.whl.metadata (22 kB)\n",
      "Collecting dnspython<3.0.0,>=1.16.0 (from pymongo)\n",
      "  Downloading dnspython-2.7.0-py3-none-any.whl.metadata (5.8 kB)\n",
      "Downloading pymongo-4.11.3-cp310-cp310-manylinux_2_17_x86_64.manylinux2014_x86_64.whl (1.2 MB)\n",
      "\u001b[2K   \u001b[90m━━━━━━━━━━━━━━━━━━━━━━━━━━━━━━━━━━━━━━━━\u001b[0m \u001b[32m1.2/1.2 MB\u001b[0m \u001b[31m35.7 MB/s\u001b[0m eta \u001b[36m0:00:00\u001b[0m\n",
      "\u001b[?25hDownloading dnspython-2.7.0-py3-none-any.whl (313 kB)\n",
      "Installing collected packages: dnspython, pymongo\n",
      "Successfully installed dnspython-2.7.0 pymongo-4.11.3\n",
      "Note: you may need to restart the kernel to use updated packages.\n"
     ]
    }
   ],
   "source": [
    "pip install pymongo"
   ]
  },
  {
   "cell_type": "markdown",
   "id": "276093f1-824b-4793-bb59-dc30c7d84fb4",
   "metadata": {},
   "source": [
    "Load the OpenAI API key and define a `openai_help` function."
   ]
  },
  {
   "cell_type": "code",
   "execution_count": 9,
   "id": "b126647a-fbda-42c3-bebb-d689802c6665",
   "metadata": {
    "tags": []
   },
   "outputs": [],
   "source": [
    "from openai import OpenAI\n",
    "\n",
    "openai_api_key  = get_secret('openai')['api_key']\n",
    "client = OpenAI(api_key=openai_api_key)\n",
    "model = 'gpt-4o'\n",
    "temperature = 0\n",
    "\n",
    "def openai_help(messages, model=model, temperature =temperature ):\n",
    "    messages = messages\n",
    "    response = client.chat.completions.create(\n",
    "        model=model,\n",
    "        messages=messages,\n",
    "        temperature=temperature\n",
    "\n",
    "    )\n",
    "    return response.choices[0].message.content"
   ]
  },
  {
   "cell_type": "markdown",
   "id": "ff7bc14c-2609-4c3e-aa5d-762cd3d06ac0",
   "metadata": {},
   "source": [
    "Temperature: \n",
    "- Low temperature: always choose the most likely response, reliable, predictable responses  \n",
    "- High temperature: diverse responses, more creative responses\n",
    "\n",
    "Tokens and Models: \n",
    "- LLM predicts tokens, which are commonly occurring sequences of characters. \n",
    "- One token is about four characters in English, and 100 tokens are roughly 75 words. Check [token estimate](https://platform.openai.com/tokenizer).\n",
    "- Different models can process various amounts of tokens at different performance levels and costs. Check [OpenAI models](https://platform.openai.com/docs/models) for more details.\n",
    "\n",
    "Roles:\n",
    "- system: specify the overall tone or behavior of the assistant \n",
    "- user: instruction given to the LLM\n",
    "- assistant: LLM responded content, we also can provide content in few-shot promoting or histories of conversations\n"
   ]
  },
  {
   "cell_type": "markdown",
   "id": "6c4ef378-e825-40ca-a565-371ba96268a1",
   "metadata": {},
   "source": [
    "A simple example using [gtp-4o](https://platform.openai.com/docs/models/gpt-4o) and temperature 0."
   ]
  },
  {
   "cell_type": "code",
   "execution_count": 10,
   "id": "04b746d9-f11f-4f46-96f5-64dd40f6dc36",
   "metadata": {
    "tags": []
   },
   "outputs": [
    {
     "name": "stdout",
     "output_type": "stream",
     "text": [
      "The capital of the United States is Washington, D.C.\n"
     ]
    }
   ],
   "source": [
    "messages = [{\"role\": \"user\", \"content\": \"What is the capital of USA\"}]\n",
    "\n",
    "print(openai_help(messages))"
   ]
  },
  {
   "cell_type": "markdown",
   "id": "edfcbc19-1ea0-456a-ba84-8f76ef87ba30",
   "metadata": {},
   "source": [
    "Add a system message asking LLM to act as a high school teacher with different temperatures."
   ]
  },
  {
   "cell_type": "code",
   "execution_count": 11,
   "id": "7608f8d0-fefb-41a7-8713-1287b3cd7047",
   "metadata": {
    "tags": []
   },
   "outputs": [
    {
     "name": "stdout",
     "output_type": "stream",
     "text": [
      "The capital of the United States is Washington, D.C. It's an important center for the country's government and is home to many iconic landmarks, such as the White House, the Capitol Building, and the Supreme Court. If you have any more questions about U.S. geography or history, feel free to ask!\n"
     ]
    }
   ],
   "source": [
    "messages = [\n",
    "    {\"role\": \"system\", \"content\": \"use tone as a high school teacher\"},\n",
    "    {\"role\": \"user\", \"content\": \"What is the capital of USA\"}\n",
    "    ]\n",
    "\n",
    "print(openai_help(messages, temperature = 0.8))"
   ]
  },
  {
   "cell_type": "markdown",
   "id": "1887fc65-5f97-4530-b81b-f158ea2af413",
   "metadata": {},
   "source": [
    "Add assistant messages to teach LLM what `##` is."
   ]
  },
  {
   "cell_type": "code",
   "execution_count": 12,
   "id": "5e37e101-f820-4ba7-969c-ce05b53aafe3",
   "metadata": {
    "tags": []
   },
   "outputs": [
    {
     "name": "stdout",
     "output_type": "stream",
     "text": [
      "It is 33.\n"
     ]
    }
   ],
   "source": [
    "messages = [\n",
    "    {\"role\": \"user\", \"content\": \"What is 1##1\"},\n",
    "    {\"role\": \"assistant\", \"content\": \"it is 11\"},\n",
    "    {\"role\": \"user\", \"content\": \"What is 2##2\"},\n",
    "    {\"role\": \"assistant\", \"content\": \"it is 22\"},\n",
    "    {\"role\": \"user\", \"content\": \"What is 3##3\"},\n",
    "    ]\n",
    "print(openai_help(messages))"
   ]
  },
  {
   "cell_type": "markdown",
   "id": "addef986-2e0c-4849-bc7a-48b102fbf2fe",
   "metadata": {},
   "source": [
    "## Prompt Engineering Principles \n",
    "- Use delimiters to separate different parts of a prompt to provide clear instructions and prevent prompt injections.\n",
    "- Structure outputs in JSON documents or other formats to use the outputs in subsequent steps \n",
    "- Few-shot promoting: provide successful examples of a task and then ask the model to perform a similar task. \n",
    "- Chain of thought reasoning: request a series of reasoning steps in prompts to help the model achieve correct answers\n",
    "- Chain of prompts: split a task into multiple prompts where each prompt can focus on a sub-task at a time and take different actions at different stages. It saves tokens, is easier to test, can involve human input, or use external tools.\n",
    "- Interactive process \n",
    "  1. Try something first \n",
    "  2. Analyses the result, identify errors, and redefine the prompt \n",
    "  3. Test the prompts with different datasets \n"
   ]
  },
  {
   "cell_type": "markdown",
   "id": "b972159e-3c51-4d95-8fd0-7e85bb572821",
   "metadata": {},
   "source": [
    "An example using delimiters, structured output and few-shot promoting:"
   ]
  },
  {
   "cell_type": "code",
   "execution_count": 18,
   "id": "da5d9da0-de00-4611-b448-71433d6700f5",
   "metadata": {
    "tags": []
   },
   "outputs": [
    {
     "name": "stdout",
     "output_type": "stream",
     "text": [
      "{ \"sentiment\": \"positive\" }\n"
     ]
    }
   ],
   "source": [
    "delimiter = '###'\n",
    "sentence1 = 'I love cat.'\n",
    "sentence2 = 'I love dog.'\n",
    "messages = [\n",
    "    {\"role\": \"system\", \"content\": f\"\"\"analyze the sentiment in a sentence delimitered by {delimiter},\n",
    "                                     return the result as a JSON document\"\"\"},\n",
    "    {\"role\": \"user\", \"content\": f\"{delimiter}{sentence1}{delimiter}\"},\n",
    "    {\"role\": \"assistant\", \"content\": \"{sentiment:positive}\"},\n",
    "    {\"role\": \"user\", \"content\": f\"{delimiter}{sentence2}{delimiter}\"}\n",
    "    ]\n",
    "\n",
    "print(openai_help(messages))"
   ]
  },
  {
   "cell_type": "markdown",
   "id": "28adfdc4-2bea-476d-9c0b-6ee8bff24436",
   "metadata": {},
   "source": [
    "## Analyze Twitter data"
   ]
  },
  {
   "cell_type": "markdown",
   "id": "f8bbef7a-54ba-4a6e-a5a5-a050cd887a70",
   "metadata": {},
   "source": [
    "### Connect to the MongoDB cluster"
   ]
  },
  {
   "cell_type": "code",
   "execution_count": 3,
   "id": "05ac135f-43ea-4499-9aac-224324b9e727",
   "metadata": {
    "tags": []
   },
   "outputs": [
    {
     "data": {
      "text/plain": [
       "'tweet.id_1'"
      ]
     },
     "execution_count": 3,
     "metadata": {},
     "output_type": "execute_result"
    }
   ],
   "source": [
    "import pymongo\n",
    "from pymongo import MongoClient\n",
    "mongodb_connect = get_secret('mongodb')['connection_string']\n",
    "\n",
    "mongo_client = MongoClient(mongodb_connect)\n",
    "db = mongo_client.demo # use or create a database named demo\n",
    "tweet_collection = db.tweet_collection #use or create a collection named tweet_collection\n",
    "tweet_collection.create_index([(\"tweet.id\", pymongo.ASCENDING)],unique = True) # make sure the collected tweets are unique"
   ]
  },
  {
   "cell_type": "markdown",
   "id": "dcdcfa9f-34a3-4902-b3ac-52b56cfb890d",
   "metadata": {},
   "source": [
    "### Extract Tweets"
   ]
  },
  {
   "cell_type": "code",
   "execution_count": 4,
   "id": "eeb2d39e-603b-4d41-9a23-b4db8dcdad2f",
   "metadata": {
    "tags": []
   },
   "outputs": [],
   "source": [
    "filter={\n",
    "\n",
    "    \n",
    "}\n",
    "project={\n",
    "    'tweet.text': 1, \n",
    "    'tweet.id': 1\n",
    "}\n",
    "#rename the client to mongo_client\n",
    "result = mongo_client['demo']['tweet_collection'].find(\n",
    "  filter=filter,\n",
    "  projection=project\n",
    ")"
   ]
  },
  {
   "cell_type": "code",
   "execution_count": 16,
   "id": "5d4082df-a6f5-4427-b059-90995c1b5571",
   "metadata": {
    "tags": []
   },
   "outputs": [
    {
     "name": "stdout",
     "output_type": "stream",
     "text": [
      "[]\n"
     ]
    }
   ],
   "source": [
    "tweet_data = []\n",
    "for tweet in result:\n",
    "    tweet_data.append(tweet['tweet']['text'])\n",
    "\n",
    "print(tweet_data)"
   ]
  },
  {
   "cell_type": "code",
   "execution_count": 16,
   "id": "c7a0713c-4ebb-4cc0-b3e5-e307f9b40a94",
   "metadata": {
    "tags": []
   },
   "outputs": [
    {
     "name": "stdout",
     "output_type": "stream",
     "text": [
      "Number of tweets:  98\n"
     ]
    }
   ],
   "source": [
    "print('Number of tweets: ',len(tweet_data))"
   ]
  },
  {
   "cell_type": "markdown",
   "id": "61d566a4-aafc-4592-ab05-33af9f88e220",
   "metadata": {
    "tags": []
   },
   "source": [
    "### Summarization \n",
    "- Analyze election tweets with delimiters \n",
    "- Change the size of the summarization \n",
    "- Summarize tweets and focus on different perspectives. "
   ]
  },
  {
   "cell_type": "code",
   "execution_count": 19,
   "id": "d548343d-ce9b-4960-88c2-d9586631a6ba",
   "metadata": {
    "tags": []
   },
   "outputs": [
    {
     "name": "stdout",
     "output_type": "stream",
     "text": [
      "It seems there are no tweets provided between the delimiters. Could you please provide the tweets you would like summarized?\n"
     ]
    }
   ],
   "source": [
    "messages = [\n",
    "    {\"role\": \"system\", \"content\": f\"\"\"provide a brief summary of the tweets delimited by {delimiter}\"\"\"},\n",
    "    {\"role\": \"user\", \"content\": f\"{delimiter}{tweet_data}{delimiter}\"},\n",
    "    ]\n",
    "\n",
    "print(openai_help(messages))"
   ]
  },
  {
   "cell_type": "code",
   "execution_count": 18,
   "id": "cd324d10-eb50-4d2b-a9ac-56af268d37a6",
   "metadata": {
    "tags": []
   },
   "outputs": [
    {
     "name": "stdout",
     "output_type": "stream",
     "text": [
      "The tweets discuss bans on opposition leaders in Europe, criticism of the AfD, and concerns about democracy and political suppression.\n"
     ]
    }
   ],
   "source": [
    "messages = [\n",
    "    {\"role\": \"system\", \"content\": f\"\"\"provide a brief summary of the tweets delimited by {delimiter},\n",
    "                                    limit the summary to 20 words\"\"\"},\n",
    "    {\"role\": \"user\", \"content\": f\"{delimiter}{tweet_data}{delimiter}\"},\n",
    "    ]\n",
    "\n",
    "print(openai_help(messages))"
   ]
  },
  {
   "cell_type": "code",
   "execution_count": 19,
   "id": "fc09adab-a49c-453f-af26-3ecc4edd7603",
   "metadata": {
    "tags": []
   },
   "outputs": [
    {
     "name": "stdout",
     "output_type": "stream",
     "text": [
      "The tweets discuss AI in the context of political discourse, highlighting concerns about algorithmic bias and amplification of certain political content, particularly pro-AfD narratives. There is a mention of studies indicating that AI algorithms may reinforce partisan content, raising questions about the role of AI in shaping political discussions and perceptions.\n"
     ]
    }
   ],
   "source": [
    "messages = [\n",
    "    {\"role\": \"system\", \"content\": f\"\"\"provide a brief summary of the tweets delimited by {delimiter},\n",
    "                                    focus on how people discuss AI,\n",
    "                                    limit the summary to 50 words\"\"\"},\n",
    "    {\"role\": \"user\", \"content\": f\"{delimiter}{tweet_data}{delimiter}\"},\n",
    "    ]\n",
    "\n",
    "print(openai_help(messages))"
   ]
  },
  {
   "cell_type": "markdown",
   "id": "193c75ab-00d8-44e2-a63e-b4b3aa1847e1",
   "metadata": {},
   "source": [
    "### Moderation \n",
    "- Iterate each tweet and use the [moeration endpoint](https://platform.openai.com/docs/api-reference/moderations) to identify flagged tweets\n",
    "- Print flagged tweets\n"
   ]
  },
  {
   "cell_type": "code",
   "execution_count": 14,
   "id": "dc3eee06-540d-4126-945c-8153165d88b1",
   "metadata": {
    "tags": []
   },
   "outputs": [],
   "source": [
    "def flag_help(tweet):\n",
    "    response = client.moderations.create(\n",
    "        model=\"omni-moderation-latest\",\n",
    "        input=tweet)\n",
    "\n",
    "    if response.results[0].flagged:\n",
    "        print('===')\n",
    "        cat_dict = response.results[0].categories.to_dict()\n",
    "        for cat in cat_dict.keys():\n",
    "            if cat_dict.get(cat):\n",
    "                print (cat)\n",
    "                print(tweet)"
   ]
  },
  {
   "cell_type": "code",
   "execution_count": 15,
   "id": "a6878285-cd9f-4878-8cc1-cee9bbd8160c",
   "metadata": {
    "tags": []
   },
   "outputs": [
    {
     "name": "stdout",
     "output_type": "stream",
     "text": [
      "===\n",
      "harassment\n",
      "RT @WakkereHarry: Alles en iedereen die de #islamisering van de #EU in de weg staat wordt aan de kant getrapt door extreemlinkse rechters..…\n",
      "hate\n",
      "RT @WakkereHarry: Alles en iedereen die de #islamisering van de #EU in de weg staat wordt aan de kant getrapt door extreemlinkse rechters..…\n",
      "violence\n",
      "RT @WakkereHarry: Alles en iedereen die de #islamisering van de #EU in de weg staat wordt aan de kant getrapt door extreemlinkse rechters..…\n",
      "===\n",
      "violence\n",
      "RT @ImperiumHispano: @TheObjective_es @antonioRG9 Anularon las elecciones en Rumanía, atacan continuamente a Viktor Orban, intentan ilegali…\n",
      "===\n",
      "harassment\n",
      "RT @Hippy15405085: Muß ich das verstehen? Die @AfD brüllt immer, KRIMINELLE AUSLÄNDER BESTRAFEN, jetzt passiert es und ist auch nicht gut.😂…\n",
      "hate\n",
      "RT @Hippy15405085: Muß ich das verstehen? Die @AfD brüllt immer, KRIMINELLE AUSLÄNDER BESTRAFEN, jetzt passiert es und ist auch nicht gut.😂…\n",
      "===\n",
      "harassment\n",
      "RT @SeibtNaomi: The Islamic occupation of Germany is in progress. \n",
      "\n",
      "Germans don’t have enough children,\n",
      "Muslim migrants do. \n",
      "But they don’t…\n",
      "===\n",
      "harassment\n",
      "@rebew_lexa Ist der Kerl nicht dieser Graue Wolf Fascho, der letzte Woche mit Neonazis aufmarschiert ist und Juden töten will? Die AfD hat ohne Herrn Sentürk wenigstens einen Problemfall weniger.\n",
      "violence\n",
      "@rebew_lexa Ist der Kerl nicht dieser Graue Wolf Fascho, der letzte Woche mit Neonazis aufmarschiert ist und Juden töten will? Die AfD hat ohne Herrn Sentürk wenigstens einen Problemfall weniger.\n",
      "===\n",
      "harassment\n",
      "@benonwine Marine Le Pen hat sich bei der Europa Wahl einfach schäbig gegenüber der AFD verhalten. Das Karma hat zurückgeschlagen. Trotzdem, es gibt so viele Politiker, die haben so viel mehr Scheiß an den Haken, die schon lange, lange im Gefängnis schmoren sollten.\n",
      "===\n",
      "harassment\n",
      "RT @RonPeppenster: Wat denken jullie, zal @thierrybaudet de volgende oppositieleider zijn die door de EUelite vakkundig politiek monddood w…\n",
      "violence\n",
      "RT @RonPeppenster: Wat denken jullie, zal @thierrybaudet de volgende oppositieleider zijn die door de EUelite vakkundig politiek monddood w…\n",
      "===\n",
      "violence\n",
      "RT @BjoernHoecke: Sicherheitsdienste in Freibädern, Alarm-Knöpfe in Arztpraxen, Polizisten mit Maschinenpistolen auf Volksfesten… Unsere He…\n",
      "===\n",
      "harassment\n",
      "@frei_geist_ Oh aufeinmal ist Patriotismus erwünscht? Zumindest solange es Kriegstreiber fordern? Unglaublich, ich glaube so langsam bin ich im falschen Film. Jahrelang wurden Soldaten als Abschaum beschimpft weil sie eben Soldaten waren. Als Kriegsgeile Idioten! Jahrelang wollte die AfD\n",
      "hate\n",
      "@frei_geist_ Oh aufeinmal ist Patriotismus erwünscht? Zumindest solange es Kriegstreiber fordern? Unglaublich, ich glaube so langsam bin ich im falschen Film. Jahrelang wurden Soldaten als Abschaum beschimpft weil sie eben Soldaten waren. Als Kriegsgeile Idioten! Jahrelang wollte die AfD\n",
      "===\n",
      "harassment\n",
      "@david_vilj David, ein Land in dem die dröfligste Sonderrente statt einer Bafög Erhöhung eingeführt werden soll, das ein Medianalter von 47 Jahren, eine AFD &gt;20% erhält und F. Merz Kanzler wird, ist definitiv konservativ.\n",
      "===\n",
      "harassment\n",
      "RT @watch_union: Geballte Dummheit ist es, was die #CDU hier auffährt.\n",
      "\n",
      "Angeblich müssen wir sparen und deswegen Sozialleistungen kürzen. S…\n",
      "===\n",
      "harassment\n",
      "RT @SeibtNaomi: The Islamic occupation of Germany is in progress. \n",
      "\n",
      "Germans don’t have enough children,\n",
      "Muslim migrants do. \n",
      "But they don’t…\n",
      "===\n",
      "harassment\n",
      "RT @AHuxley1963: Wenn du eine Ferienwohnung in Deutschland hast und dir es egal ist, ob dein Gast ungeimpft ist oder die AfD wählt, bekommt…\n"
     ]
    }
   ],
   "source": [
    "for tweet in tweet_data:\n",
    "    flag_help(tweet)"
   ]
  },
  {
   "cell_type": "markdown",
   "id": "f4b7a7d3-9097-4f70-a7f3-7ba23643e60a",
   "metadata": {},
   "source": [
    "### Transforming\n",
    "- Translating to a different language \n",
    "- Transform tones, such as formal vs. informal.  \n"
   ]
  },
  {
   "cell_type": "code",
   "execution_count": 22,
   "id": "ee398dde-df13-4911-bbbf-8151c49ace98",
   "metadata": {
    "tags": []
   },
   "outputs": [
    {
     "name": "stdout",
     "output_type": "stream",
     "text": [
      "RT @S_Muenzenmaier: AfD 影响显著——到处都是德国国旗！🇩🇪💪 在萨克森-安哈尔特的耶里科沃县，每个公共场所前很快都会悬挂国旗…\n",
      "转推 @Megatron_ron: 普京是一个独裁者。\n",
      "\n",
      "与此同时的欧洲：\n",
      "\n",
      "🇨🇵 法国：勒庞被判刑并被禁止参加选举\n",
      "\n",
      "🇷🇴 罗马尼亚：…\n",
      "RT @AfD_FraktionNRW: ++ “极右翼”：AfD 拆解宣传词！++\n",
      "\n",
      "宪法保护局认为极右翼的东西完全荒谬…\n",
      "RT @EndWokeness: 罗马尼亚反对派领袖被禁\n",
      "巴西反对派领袖被禁\n",
      "法国反对派领袖被禁\n",
      "乌克兰暂停所有…\n",
      "@MartinAckerma10 @Der_Boersianer Grok 的回答“AfD”基于研究，这些研究表明，AfD 的支持者在 X 上经常使用侮辱性语言，讨论也不太具有建设性。研究（例如 Global Witness 2025）表明，算法会增强亲 AfD 内容，在 X 上有 64% 的偏袒性内容。\n",
      "RT @EndWokeness: 罗马尼亚反对派领袖被禁\n",
      "巴西反对派领袖被禁\n",
      "法国反对派领袖被禁\n",
      "乌克兰暂停所有…\n",
      "RT @AfD_FraktionNRW: ++ “极右翼”：德国选择党拆解宣传词！++\n",
      "\n",
      "宪法保护局认为的极右翼完全荒谬…\n",
      "RT @EndWokeness: 罗马尼亚反对派领袖被禁\n",
      "巴西反对派领袖被禁\n",
      "法国反对派领袖被禁\n",
      "乌克兰暂停所有…\n",
      "RT @TheAvnerSolal: 一位罗马尼亚反对派领袖被禁止 一位巴西反对派领袖被禁止 一位法国反对派领袖被禁…\n",
      "RT @EndWokeness: 罗马尼亚反对派领袖被禁\n",
      "巴西反对派领袖被禁\n",
      "法国反对派领袖被禁\n",
      "乌克兰暂停所有…\n",
      "抱歉，我无法协助翻译该内容。\n",
      "RT @MrPitbull07: @stillgray 罗马尼亚反对派领袖——被禁止 巴西反对派领袖——被禁止 法国反对派领袖——被禁止 乌克兰…\n",
      "RT @ImperiumHispano: @TheObjective_es @antonioRG9 他们取消了罗马尼亚的选举，不断攻击维克多·欧尔班，试图非法化…\n",
      "RT @FloresJuberias: 在Georgescu之后，在Le Pen之后，当他们与AfD一起犹豫不决时……轮到@vox_es了吗？\n",
      "今天，在La…\n",
      "RT @Megatron_ron: 普京是一个独裁者。\n",
      "\n",
      "与此同时的欧洲：\n",
      "\n",
      "🇨🇵 法国：勒庞被判刑并被禁止参加选举\n",
      "\n",
      "🇷🇴 罗马尼亚…\n",
      "@afd_hsd 晚安，祝好梦\n",
      "RT @EndWokeness: 罗马尼亚反对派领袖被禁\n",
      "巴西反对派领袖被禁\n",
      "法国反对派领袖被禁\n",
      "乌克兰暂停所有…\n",
      "RT @Hippy15405085: 我需要理解这个吗？@AfD 总是喊着要惩罚外国罪犯，现在事情发生了，却又觉得不好。😂…\n",
      "RT @FineFinchen123: 鲁珀特·舒尔茨，宪法学者。\n",
      "\n",
      "德国选择党不是国家社会主义，这纯粹是一种诽谤。https:…\n",
      "RT @martyrmade: 在罗马尼亚事件和德国对AfD的行动之后，我不希望再看到有人对……感到困惑\n",
      "RT @kassem_ts: 为什么那些声称热爱祖国的民族主义者，往往卷入腐败、挪用公款或间谍活动中……\n",
      "RT @AfD_FraktionBB: 🧱 经济正在衰退 - 但防火墙依然坚固\n",
      "\n",
      "州议会中的老派议员们竭尽全力维护他们的防火墙，以抵御A…\n",
      "RT @EndWokeness: 罗马尼亚反对派领袖被禁\n",
      "巴西反对派领袖被禁\n",
      "法国反对派领袖被禁\n",
      "乌克兰暂停所有…\n",
      "抱歉，我无法协助处理该请求。\n",
      "RT @martyrmade: 在罗马尼亚事件和德国对AfD的行动之后，我不希望再看到有人对……感到困惑。\n",
      "RT @Megatron_ron: 普京是一个独裁者。\n",
      "\n",
      "与此同时的欧洲：\n",
      "\n",
      "🇨🇵 法国：勒庞被判刑并被禁止参加选举\n",
      "\n",
      "🇷🇴 罗马尼亚…\n",
      "RT @Megatron_ron: 普京是一个独裁者。\n",
      "\n",
      "与此同时的欧洲：\n",
      "\n",
      "🇨🇵 法国：勒庞被判刑并被禁止参加选举\n",
      "\n",
      "🇷🇴 罗马尼亚…\n",
      "RT @NickJFuentes: “我们的神圣民主”当错误的一方接近胜利时\n",
      "\n",
      "🇫🇷 勒庞：被起诉，被禁止担任公职\n",
      "\n",
      "🇺🇸 特朗普…\n",
      "RT @NoAFD_BTW33: 这样的结果是有原因的：#Albstadt 错失了在 Onstettingen 为其中央幼儿园寻找投资者的机会…\n",
      "RT @MrPitbull07: @stillgray 罗马尼亚反对派领袖——被禁止 巴西反对派领袖——被禁止 法国反对派领袖——被禁止 乌克兰…\n",
      "RT @vane303: 有多少来自联盟或其他政党的成员投票支持了AfD？与AfD一起投票的消息真奇怪。是…\n",
      "RT @Georg_Pazderski: 这真的是我们的民主，还是他们的❓\n",
      "\n",
      "🇩🇪 试图禁止AfD\n",
      "🇫🇷 勒庞被排除在选举之外…\n",
      "RT @Megatron_ron: 普京是一个独裁者。\n",
      "\n",
      "与此同时的欧洲：\n",
      "\n",
      "🇨🇵 法国：勒庞被判刑并被禁止参加选举\n",
      "\n",
      "🇷🇴 罗马尼亚…\n",
      "@afd_hsd @za___b__06 也祝你晚安\n",
      "RT @Megatron_ron: 普京是一个独裁者。\n",
      "\n",
      "与此同时的欧洲：\n",
      "\n",
      "🇨🇵 法国：勒庞被判刑并被禁止参加选举\n",
      "\n",
      "🇷🇴 罗马尼亚…\n",
      "RT @Ruhrpottler3005: @MitAktien 这真的是我们的民主，还是他们的❓\n",
      "\n",
      "🇩🇪 试图禁止德国选择党（AfD）\n",
      "🇫🇷 勒庞被选举…\n",
      "转发 @Wahlen_DE: 联邦议院选举 | INSA/BILD 周日民调\n",
      "\n",
      "联盟党：26.5% (-0.5)\n",
      "德国选择党：23.5%\n",
      "社民党：15.5% (+1.0)\n",
      "绿党：12.0%\n",
      "左翼党：10.5%\n",
      "BSW：4,…\n",
      "转推 @Megatron_ron: 普京是个独裁者。\n",
      "\n",
      "与此同时的欧洲：\n",
      "\n",
      "🇨🇵 法国：勒庞被判刑并被禁止参加选举\n",
      "\n",
      "🇷🇴 罗马尼亚…\n",
      "转发 @Megatron_ron: 普京是一个独裁者。\n",
      "\n",
      "与此同时的欧洲：\n",
      "\n",
      "🇨🇵 法国：勒庞被判刑并被禁止参加选举\n",
      "\n",
      "🇷🇴 罗马尼亚…\n",
      "RT @Georg_Pazderski: 这真的是我们的民主，还是他们的民主❓\n",
      "\n",
      "🇩🇪 试图禁止德国选择党（AfD）\n",
      "🇫🇷 勒庞被排除在选举之外…\n",
      "RT @EndWokeness: 罗马尼亚反对派领袖被禁\n",
      "巴西反对派领袖被禁\n",
      "法国反对派领袖被禁\n",
      "乌克兰暂停所有…\n",
      "RT @Megatron_ron: 普京是一个独裁者。\n",
      "\n",
      "与此同时的欧洲：\n",
      "\n",
      "🇨🇵 法国：勒庞被判刑并被禁止参加选举\n",
      "\n",
      "🇷🇴 罗马尼亚…\n",
      "RT @RT_India_news: 欧洲的民主危机 🇪🇺🤯\n",
      "\n",
      "🇫🇷 在民调中超过马克龙后，禁止玛丽娜·勒庞参加总统选举\n",
      "\n",
      "🇩🇪 E…\n",
      "RT @EndWokeness: 罗马尼亚反对派领袖被禁\n",
      "巴西反对派领袖被禁\n",
      "法国反对派领袖被禁\n",
      "乌克兰暂停所有…\n",
      "RT @Megatron_ron: 普京是一个独裁者。\n",
      "\n",
      "与此同时的欧洲：\n",
      "\n",
      "🇨🇵 法国：勒庞被判刑并被禁止参加选举\n",
      "\n",
      "🇷🇴 罗马尼亚：…\n",
      "@rebew_lexa 那个家伙不是上周和新纳粹一起游行并想要杀犹太人的灰狼法西斯吗？没有森图尔克先生，德国选择党至少少了一个问题人物。\n",
      "RT @AfDDuesseldorf: 随着我们在杜塞尔多夫推出AfD市长候选人，我们也开始了2020年地方选举的竞选活动…\n",
      "RT @EndWokeness: 罗马尼亚反对派领袖被禁\n",
      "巴西反对派领袖被禁\n",
      "法国反对派领袖被禁\n",
      "乌克兰暂停所有…\n",
      "RT @Pierre_B_y: 我感觉司法法院的检察官对那个晚上的看法不太一样。只有一次逮捕。而且…\n",
      "RT @Megatron_ron: 普京是一个独裁者。\n",
      "\n",
      "与此同时的欧洲：\n",
      "\n",
      "🇨🇵 法国：勒庞被判刑并被禁止参加选举\n",
      "\n",
      "🇷🇴 罗马尼亚…\n",
      "RT @Georg_Pazderski: 这真的是我们的民主，还是他们的❓\n",
      "\n",
      "🇩🇪 试图禁止AfD\n",
      "🇫🇷 勒庞被排除在选举之外…\n",
      "@power_puschel 我们必须紧急采取行动。 如果我们只是投票，然后让AfD独自行动，那是不够的。 谁知道他们会不会对Weidel女士做和对La PEN一样的事情。 他们是有可能这样做的。 在我看来，德国的法官也不是独立的。\n",
      "@kerstinkoeditz @CollinFrMcMahon 这是什么垃圾。目前在德国发生的事情既不民主，也与德国选择党无关。\n",
      "RT @Megatron_ron: 普京是一个独裁者。\n",
      "\n",
      "与此同时的欧洲：\n",
      "\n",
      "🇨🇵 法国：勒庞被判刑并被禁止参加选举\n",
      "\n",
      "🇷🇴 罗马尼亚：…\n",
      "RT @nikitheblogger: 重磅消息：德国选择党（AfD）在Jerichower Land县议会的提案获得通过！未来，每座公共建筑上方都将悬挂…\n",
      "RT @matvest1234: @SwedPirate @ROGSAHL 罗马尼亚的反对派领袖 巴西的反对派领袖 摩尔多瓦停止反对党 乌克兰…\n",
      "RT @GonzaloCanete: 🇫🇷 法国：法院阻止了玛丽娜·勒庞的候选资格，以应对不可阻挡的胜利。\n",
      "\n",
      "😱你们还记得当时警告过……\n",
      "RT @EndWokeness: 罗马尼亚反对派领袖被禁\n",
      "巴西反对派领袖被禁\n",
      "法国反对派领袖被禁\n",
      "乌克兰暂停所有…\n",
      "RT @EndWokeness: 罗马尼亚反对派领袖被禁\n",
      "巴西反对派领袖被禁\n",
      "法国反对派领袖被禁\n",
      "乌克兰暂停所有…\n",
      "RT @MrPitbull07: @stillgray 罗马尼亚反对派领袖——被禁止 巴西反对派领袖——被禁止 法国反对派领袖——被禁止 乌克兰…\n",
      "RT @Megatron_ron: 普京是一个独裁者。\n",
      "\n",
      "与此同时的欧洲：\n",
      "\n",
      "🇨🇵 法国：勒庞被判刑并被禁止参加选举\n",
      "\n",
      "🇷🇴 罗马尼亚…\n",
      "RT @EndWokeness: 罗马尼亚反对派领袖被禁\n",
      "巴西反对派领袖被禁\n",
      "法国反对派领袖被禁\n",
      "乌克兰暂停所有…\n",
      "@benonwine 玛丽娜·勒庞在欧洲选举中对待德国选择党（AFD）的态度简直卑鄙。因果报应已经回击。然而，有那么多政客，他们犯下了更多的错误，早就应该在监狱里待很久了。\n",
      "RT @Georg_Pazderski: 这真的是我们的民主，还是他们的❓\n",
      "\n",
      "🇩🇪 试图禁止德国选择党（AfD）\n",
      "🇫🇷 勒庞被排除在选举之外…\n",
      "RT @EndWokeness: 罗马尼亚反对派领袖被禁\n",
      "巴西反对派领袖被禁\n",
      "法国反对派领袖被禁\n",
      "乌克兰暂停所有…\n",
      "RT @RonPeppenster: 你们怎么看，@thierrybaudet 会是下一个被欧盟精英熟练地在政治上噤声的反对派领袖吗…\n",
      "转发 @BjoernHoecke: 游泳池的安保服务、诊所的报警按钮、民俗节日上持有冲锋枪的警察……我们的国土安全…\n",
      "RT @NickBuckleyMBE: 西方的精英们感到害怕——他们有理由感到害怕。变革即将到来。他们会试图阻止它，但他们将无法成功…\n",
      "RT @AfD_FraktionBB: 🧱 经济正在衰退 - 但防火墙依然坚固\n",
      "\n",
      "州议会中的旧派系竭尽全力维护他们的防火墙，以抵御A…\n",
      "RT @S_Muenzenmaier: AfD 影响显著——德国国旗到处飘扬！🇩🇪💪 在萨克森-安哈尔特的耶里科沃县，每个公共场所前很快都会悬挂国旗…\n",
      "RT @EndWokeness: 罗马尼亚反对派领袖被禁\n",
      "巴西反对派领袖被禁\n",
      "法国反对派领袖被禁\n",
      "乌克兰暂停所有…\n",
      "RT @MrPitbull07: @stillgray 罗马尼亚反对派领袖——被禁止 巴西反对派领袖——被禁止 法国反对派领袖——被禁止 乌克兰…\n",
      "@MyLordBebo t\n",
      "欧盟对勒庞以及像乔治斯库和德国选择党等人的行动看起来像是为了压制异议的权力攫取。这不是民主；这是一个窒息的控制。#JeSoutiensMarine\n",
      "RT @Anonymous00708: 尖锐批评‼️\n",
      "现在来自各方对联邦宪法保护局的批评\n",
      "原因：延迟的德国选择党评估…\n",
      "RT @Megatron_ron: 普京是一个独裁者。\n",
      "\n",
      "与此同时的欧洲：\n",
      "\n",
      "🇨🇵 法国：勒庞被判刑并被禁止参加选举\n",
      "\n",
      "🇷🇴 罗马尼亚…\n",
      "RT @MitAktien: 然后扎克：下一位对欧盟持批评态度的政治家，很有可能成为法国的下一任总统……\n",
      "@frei_geist_ 哦，突然间爱国主义变得受欢迎了？至少在战争贩子要求的时候是这样？难以置信，我觉得我好像在看一部错误的电影。多年来，士兵们因为他们是士兵而被骂作人渣。被称为战争狂热的白痴！多年来，AfD想要\n",
      "RT @EndWokeness: 罗马尼亚反对派领袖被禁\n",
      "巴西反对派领袖被禁\n",
      "法国反对派领袖被禁\n",
      "乌克兰暂停所有…\n",
      "RT @MrPitbull07: @stillgray 罗马尼亚反对派领袖——被禁止 巴西反对派领袖——被禁止 法国反对派领袖——被禁止 乌克兰…\n",
      "RT @DiosaKhalinda: 但独裁者是普京！\n",
      "\n",
      "欧盟👇\n",
      "\n",
      "🇨🇵 法国：勒庞被判禁止参加选举\n",
      "\n",
      "🇷🇴 R…\n",
      "RT @EndWokeness: 罗马尼亚反对派领袖被禁\n",
      "巴西反对派领袖被禁\n",
      "法国反对派领袖被禁\n",
      "乌克兰暂停所有…\n",
      "@Rene_Aust @DanielHaseloff @RobertTeskeHB 政府责任？😂😂😂 告诉我一件事：为什么AfD在东部输掉了所有的州议会选举——因为也有RKI名单，一直是公开的，直到它们“消失”…… 为什么没有人知道这些？大概是因为“每个人都懂”：https://t.co/OkwAwHd3dH AfD什么时候会有所行动？\n",
      "@david_vilj 大卫，一个国家引入最无聊的特殊养老金而不是提高助学金，拥有47岁的中位年龄，选择党支持率超过20%，并且F. Merz成为总理，这绝对是保守的。\n",
      "RT @EndWokeness: 罗马尼亚反对派领袖被禁\n",
      "巴西反对派领袖被禁\n",
      "法国反对派领袖被禁\n",
      "乌克兰暂停所有…\n",
      "抱歉，我无法翻译这条推文。\n",
      "RT @ElCid30639603: 🇪🇺 : 普京是独裁者。与此同时，欧盟： 法国：勒庞被判刑，禁止选举。 德国：对德国选择党采取同样的措施。 罗马尼亚：选举…\n",
      "RT @BostonTea84: 呵呵，这些民主标准真有趣。\n",
      "\n",
      "▶️ 德国：萨克森州法院下令没收所有当地居民的枪支……\n",
      "RT @nikitheblogger: 坦诚地说： 现在很明显勒庞遥遥领先，她被排除在选举之外。 想想……\n",
      "RT @EndWokeness: 罗马尼亚反对派领袖被禁\n",
      "巴西反对派领袖被禁\n",
      "法国反对派领袖被禁\n",
      "乌克兰暂停所有…\n",
      "RT @AndrzejOlkiewi: 德国AfD的欧洲议会议员🇩🇪用波兰语发言，捍卫波兰在#PE🇪🇺的利益 https://t.co/lMYzcGU5vf\n",
      "转推 @Megatron_ron: 普京是个独裁者。\n",
      "\n",
      "与此同时的欧洲：\n",
      "\n",
      "🇨🇵 法国：勒庞被判刑并被禁止参加选举\n",
      "\n",
      "🇷🇴 罗马尼亚：…\n",
      "RT @watch_union: #CDU在这里展示的是极端的愚蠢。\n",
      "\n",
      "据称我们必须节约，因此要削减社会福利。S…\n",
      "RT @MitAktien: 然后扎克：下一位对欧盟持批评态度的政治家，很有可能成为法国的下一任总统……\n",
      "RT @Georg_Pazderski: 这真的是我们的民主，还是他们的❓\n",
      "\n",
      "🇩🇪 试图禁止AfD\n",
      "🇫🇷 勒庞被排除在选举之外…\n",
      "@afd_hsd 美丽的夜晚即将来临\n",
      "RT @TheAvnerSolal: 一位罗马尼亚反对派领袖被禁止 一位巴西反对派领袖被禁止 一位法国反对派领袖被禁止…\n",
      "抱歉，我无法协助满足该请求。\n",
      "抱歉，我无法翻译这条推文。\n"
     ]
    }
   ],
   "source": [
    "for tweet in tweet_data:\n",
    "    messages = [\n",
    "        {\"role\": \"system\", \"content\": f\"\"\"translate the tweets delimited by {delimiter} into Chinese\"\"\"},\n",
    "        {\"role\": \"user\", \"content\": f\"{delimiter}{tweet}{delimiter} \"}]\n",
    "\n",
    "    print(openai_help(messages).strip(delimiter))"
   ]
  },
  {
   "cell_type": "code",
   "execution_count": 20,
   "id": "4f2b2219-b1f9-4be8-9d7c-2f1daa733e34",
   "metadata": {
    "tags": []
   },
   "outputs": [],
   "source": [
    "for tweet in tweet_data:\n",
    "    messages = [\n",
    "        {\"role\": \"system\", \"content\": f\"\"\"rewrite the tweets delimited by {delimiter} in the tone like Stewie \"\"\"},\n",
    "        {\"role\": \"user\", \"content\": f\"{delimiter}{tweet}{delimiter} \"}]\n",
    "\n",
    "    print(openai_help(messages).strip(delimiter))"
   ]
  },
  {
   "cell_type": "markdown",
   "id": "860bbb3a-f1c9-4f1b-9f0f-c9d783f6bb1f",
   "metadata": {},
   "source": [
    "### Inferring\n",
    "- Use step-by-step instructions with delimiters to:\n",
    "  1. Identify sentiments\n",
    "  2. Identify emotions\n",
    "  3. Extract mentioned people's names\n",
    "  3. Identify whether a tweet supports Democratic, Republican, or unknown \n",
    "  4. Extract outputs into a structured JSON document. \n",
    "- Identify topics from Tweets. \n"
   ]
  },
  {
   "cell_type": "code",
   "execution_count": 21,
   "id": "c56b5211-eef0-4f24-b8ca-116f9e303675",
   "metadata": {
    "scrolled": true,
    "tags": []
   },
   "outputs": [],
   "source": [
    "for tweet in tweet_data:\n",
    "    messages = [\n",
    "        {\"role\": \"system\", \"content\": f\"\"\"analyze the tweet delimited by {delimiter} in the following steps:\n",
    "                                        step 1 {delimiter} identify the tweet sentiment in a single word, either positive, negative or neutral;\n",
    "                                        step 2 {delimiter} identify the emotions expressed in the tweet with a single word;\n",
    "                                        step 3 {delimiter} extract the mentioned peoples;\n",
    "                                        step 4 {delimiter} detect whether the tweet support Democratic or Replublican, return the resunt in a single word;\n",
    "                                        step 5 {delimiter} organize the result in a json document with the keys <sentiment>, <emontion>,<mentioned>, <support>\n",
    "                                         Do not wrap the json codes in JSON markers and only return the json document\"\"\"},\n",
    "        {\"role\": \"user\", \"content\": f\"{delimiter}{tweet}{delimiter} \"}]\n",
    "    print(openai_help(messages))"
   ]
  },
  {
   "cell_type": "code",
   "execution_count": 22,
   "id": "78c4fb96-a33c-44a0-b754-58efc2972c8a",
   "metadata": {
    "tags": []
   },
   "outputs": [
    {
     "name": "stdout",
     "output_type": "stream",
     "text": [
      "{\n",
      "  \"topics\": []\n",
      "}\n"
     ]
    }
   ],
   "source": [
    "\n",
    "messages = [\n",
    "        {\"role\": \"system\", \"content\": f\"\"\"analyze the tweet delimited by {delimiter} to identify 10 topics, \n",
    "                                  Do not wrap the json codes in JSON markers \"\"\"},\n",
    "        {\"role\": \"user\", \"content\": f\"{delimiter}{tweet_data}{delimiter} \"}]\n",
    "print(openai_help(messages))"
   ]
  },
  {
   "cell_type": "markdown",
   "id": "d24c9e00-9cbb-4f96-a0bf-79135d0c8262",
   "metadata": {
    "tags": []
   },
   "source": [
    "### Expanding with multiple prompts \n",
    "- Identify which party receives majority supports\n",
    "- Provide contexts in the system message\n",
    "- Create a chatbot to answer users’ inquiry  \n"
   ]
  },
  {
   "cell_type": "code",
   "execution_count": 23,
   "id": "d34f68d6-2794-452f-9d5a-4b52fac427d7",
   "metadata": {
    "tags": []
   },
   "outputs": [
    {
     "name": "stderr",
     "output_type": "stream",
     "text": [
      "0it [00:00, ?it/s]\n"
     ]
    }
   ],
   "source": [
    "analysis_result = []\n",
    "from tqdm import tqdm\n",
    "for tweet in tqdm(tweet_data):\n",
    "    messages = [\n",
    "        {\"role\": \"system\", \"content\": f\"\"\"analyze the tweet delimited by {delimiter} in the following steps:\n",
    "                                        step 1 {delimiter} identify the tweet sentiment in a single word, either positive, negative or neutral;\n",
    "                                        step 2 {delimiter} identify the emotions expressed in the tweet with a single word;\n",
    "                                        step 3 {delimiter} extract the mentioned peoples;\n",
    "                                        step 4 {delimiter} detect whether the tweet support Democratic or Replublican, return the resunt in a singple word;\n",
    "                                        step 5 {delimiter} organize the result in a json document with the keys <sentiment>, <emontion>,<mentioned>, <support>\n",
    "                                         Do not wrap the json codes in JSON markers and only return the json document\"\"\"},\n",
    "        {\"role\": \"user\", \"content\": f\"{delimiter}{tweet}{delimiter} \"}]\n",
    "    analysis_result.append(openai_help(messages))\n"
   ]
  },
  {
   "cell_type": "code",
   "execution_count": 24,
   "id": "f564426c-53a9-4415-9d94-790ea68907de",
   "metadata": {
    "scrolled": true,
    "tags": []
   },
   "outputs": [
    {
     "name": "stdout",
     "output_type": "stream",
     "text": [
      "[]\n"
     ]
    }
   ],
   "source": [
    "print(analysis_result)"
   ]
  },
  {
   "cell_type": "code",
   "execution_count": 25,
   "id": "c601722e-7f37-45fb-b580-9aeed74fe3a7",
   "metadata": {
    "tags": []
   },
   "outputs": [
    {
     "name": "stdout",
     "output_type": "stream",
     "text": [
      "{\n",
      "  \"Democratic count\": 0,\n",
      "  \"Republican count\": 0,\n",
      "  \"people name\": []\n",
      "}\n"
     ]
    }
   ],
   "source": [
    "messages = [\n",
    "        {\"role\": \"system\", \"content\": f\"\"\"analyze the tweet analysis reuslt delimited by {delimiter} in the following steps:\n",
    "                                        step 1 {delimiter} count the number of tweets that support Democratic and Republican;\n",
    "                                        step 2 {delimiter} identify the common sentiments and emotoions to each mentioned people;\n",
    "                                        step 3 {delimiter} organize the result in a json document with keys <Democratic count>, <Republican count>, <people name>\n",
    "                                         Do not wrap the json codes in JSON markers and only return the json document\"\"\"},\n",
    "        {\"role\": \"user\", \"content\": f\"{delimiter}{analysis_result}{delimiter} \"}]\n",
    "analysis_summary = openai_help(messages)\n",
    "print(analysis_summary)"
   ]
  },
  {
   "cell_type": "markdown",
   "id": "5a5f98ac-b2f6-4741-82c9-8e8f88f09cf1",
   "metadata": {},
   "source": [
    "## Create a chatbot"
   ]
  },
  {
   "cell_type": "code",
   "execution_count": 26,
   "id": "91173534-53b8-4d6b-b9c0-198913b7ada8",
   "metadata": {
    "tags": []
   },
   "outputs": [],
   "source": [
    "from openai import OpenAI\n",
    "\n",
    "openai_api_key  = get_secret('openai')['api_key']\n",
    "client = OpenAI(api_key=openai_api_key)\n",
    "model = 'gpt-4o'\n",
    "temperature = 0\n",
    "\n",
    "chat_history = [\n",
    "\n",
    "{\"role\": \"system\", \"content\": f\"\"\"you are a chabot answer user questions based on the tweets,\n",
    "                                {delimiter}{tweet_data}{delimiter}, \n",
    "                                if user mentioned a people name in the {delimiter}{analysis_summary}{delimiter} people field,report the corresponding sentiment and emotion,\n",
    "                            \n",
    "                            \"\"\"}\n",
    "]\n",
    "\n",
    "def chatbot(prompt):\n",
    "\n",
    "    chat_history.append({\"role\": \"user\", \"content\": prompt})\n",
    "\n",
    "    response = client.chat.completions.create(\n",
    "        model=model,  # Use the model you prefer\n",
    "        messages=chat_history\n",
    "    )\n",
    "\n",
    "    reply = response.choices[0].message.content\n",
    "\n",
    "    chat_history.append({\"role\": \"assistant\", \"content\": reply})\n",
    "    \n",
    "    return reply"
   ]
  },
  {
   "cell_type": "code",
   "execution_count": null,
   "id": "9a949601-5af9-4d0b-80d7-5297cc4e52f4",
   "metadata": {
    "tags": []
   },
   "outputs": [],
   "source": [
    "while True:\n",
    "    user_input = input(\"You: \")\n",
    "    if user_input.lower() in ['exit', 'quit']:\n",
    "        print(\"Chatbot: Goodbye!\")\n",
    "        break\n",
    "    reply = chatbot(user_input)\n",
    "    print(f\"Chatbot: {reply}\")"
   ]
  },
  {
   "cell_type": "markdown",
   "id": "2f497dd9-8e6e-4f40-b546-8fe225185729",
   "metadata": {},
   "source": [
    "## Reference\n",
    "- Isa Fulford and Andrew Ng. n.d.-a. *“Building Systems with the ChatGPT API.”* DeepLearning.AI. Accessed October 25, 2024. https://www.deeplearning.ai/short-courses/building-systems-with-chatgpt/.\n",
    "- ———. n.d.-b. *“ChatGPT Prompt Engineering for Developers.”* DeepLearning.AI. Accessed October 25, 2024. https://www.deeplearning.ai/short-courses/chatgpt-prompt-engineering-for-developers/.\n",
    "- OpenAI. n.d. *“OpenAI Documents.”* OpenAI. Accessed October 18, 2024. https://platform.openai.com.\n"
   ]
  },
  {
   "cell_type": "code",
   "execution_count": null,
   "id": "44b06a39-30aa-498b-aff2-049fd65b7fd3",
   "metadata": {},
   "outputs": [],
   "source": []
  }
 ],
 "metadata": {
  "kernelspec": {
   "display_name": "conda_python3",
   "language": "python",
   "name": "conda_python3"
  },
  "language_info": {
   "codemirror_mode": {
    "name": "ipython",
    "version": 3
   },
   "file_extension": ".py",
   "mimetype": "text/x-python",
   "name": "python",
   "nbconvert_exporter": "python",
   "pygments_lexer": "ipython3",
   "version": "3.10.16"
  }
 },
 "nbformat": 4,
 "nbformat_minor": 5
}
