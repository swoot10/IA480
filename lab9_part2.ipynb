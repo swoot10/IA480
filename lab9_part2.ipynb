{
 "cells": [
  {
   "cell_type": "markdown",
   "id": "c91baeef-9d1e-4f43-b37d-c461aad6cc1f",
   "metadata": {},
   "source": [
    "# Lab 9 Part 2"
   ]
  },
  {
   "cell_type": "code",
   "execution_count": 1,
   "id": "18eab0f1-5c34-420d-a7ff-9380102197b6",
   "metadata": {},
   "outputs": [
    {
     "name": "stdout",
     "output_type": "stream",
     "text": [
      "Note: you may need to restart the kernel to use updated packages.\n"
     ]
    }
   ],
   "source": [
    "pip install openai -q"
   ]
  },
  {
   "cell_type": "code",
   "execution_count": 2,
   "id": "4d13134f-b024-4742-8d5a-c2f2c2303e01",
   "metadata": {},
   "outputs": [],
   "source": [
    "import boto3\n",
    "import json\n",
    "from IPython.display import display, Image, Markdown\n",
    "from openai import OpenAI\n",
    "import pandas as pd\n",
    "from pprint import pprint"
   ]
  },
  {
   "cell_type": "code",
   "execution_count": 3,
   "id": "b5771eb3-fe85-434a-a589-e875f62f7dde",
   "metadata": {},
   "outputs": [],
   "source": [
    "def get_secret(secret_name):\n",
    "    region_name = \"us-east-1\"\n",
    "\n",
    "    # Create a Secrets Manager client\n",
    "    session = boto3.session.Session()\n",
    "    client = session.client(\n",
    "        service_name='secretsmanager',\n",
    "        region_name=region_name\n",
    "    )\n",
    "\n",
    "    try:\n",
    "        get_secret_value_response = client.get_secret_value(\n",
    "            SecretId=secret_name\n",
    "        )\n",
    "    except ClientError as e:\n",
    "        raise e\n",
    "\n",
    "    secret = get_secret_value_response['SecretString']\n",
    "    \n",
    "    return json.loads(secret)"
   ]
  },
  {
   "cell_type": "code",
   "execution_count": 4,
   "id": "28a30542-401b-47d1-a7e3-6a8777804b96",
   "metadata": {},
   "outputs": [],
   "source": [
    "client = OpenAI(api_key= get_secret('openai')['api_key'])"
   ]
  },
  {
   "cell_type": "code",
   "execution_count": 5,
   "id": "39d85237-89d3-47b2-8255-bca2e53f4a73",
   "metadata": {},
   "outputs": [
    {
     "data": {
      "text/html": [
       "<div>\n",
       "<style scoped>\n",
       "    .dataframe tbody tr th:only-of-type {\n",
       "        vertical-align: middle;\n",
       "    }\n",
       "\n",
       "    .dataframe tbody tr th {\n",
       "        vertical-align: top;\n",
       "    }\n",
       "\n",
       "    .dataframe thead th {\n",
       "        text-align: right;\n",
       "    }\n",
       "</style>\n",
       "<table border=\"1\" class=\"dataframe\">\n",
       "  <thead>\n",
       "    <tr style=\"text-align: right;\">\n",
       "      <th></th>\n",
       "      <th>State</th>\n",
       "      <th>Votes</th>\n",
       "      <th>foreign_pop_edited</th>\n",
       "      <th>Location</th>\n",
       "      <th>afd_percent_edited</th>\n",
       "    </tr>\n",
       "  </thead>\n",
       "  <tbody>\n",
       "    <tr>\n",
       "      <th>0</th>\n",
       "      <td>Baden-Württemberg</td>\n",
       "      <td>1256267</td>\n",
       "      <td>0.185</td>\n",
       "      <td>West</td>\n",
       "      <td>0.198</td>\n",
       "    </tr>\n",
       "    <tr>\n",
       "      <th>1</th>\n",
       "      <td>Bavaria</td>\n",
       "      <td>1515533</td>\n",
       "      <td>0.160</td>\n",
       "      <td>West</td>\n",
       "      <td>0.190</td>\n",
       "    </tr>\n",
       "    <tr>\n",
       "      <th>2</th>\n",
       "      <td>Berlin</td>\n",
       "      <td>296999</td>\n",
       "      <td>0.233</td>\n",
       "      <td>East</td>\n",
       "      <td>0.152</td>\n",
       "    </tr>\n",
       "    <tr>\n",
       "      <th>3</th>\n",
       "      <td>Brandenburg</td>\n",
       "      <td>535279</td>\n",
       "      <td>0.075</td>\n",
       "      <td>East</td>\n",
       "      <td>0.325</td>\n",
       "    </tr>\n",
       "    <tr>\n",
       "      <th>4</th>\n",
       "      <td>Bremen</td>\n",
       "      <td>52494</td>\n",
       "      <td>0.219</td>\n",
       "      <td>West</td>\n",
       "      <td>0.151</td>\n",
       "    </tr>\n",
       "  </tbody>\n",
       "</table>\n",
       "</div>"
      ],
      "text/plain": [
       "               State    Votes  foreign_pop_edited Location  afd_percent_edited\n",
       "0  Baden-Württemberg  1256267               0.185    West                0.198\n",
       "1            Bavaria  1515533               0.160    West                0.190\n",
       "2             Berlin   296999               0.233     East               0.152\n",
       "3        Brandenburg   535279               0.075     East               0.325\n",
       "4             Bremen    52494               0.219    West                0.151"
      ]
     },
     "execution_count": 5,
     "metadata": {},
     "output_type": "execute_result"
    }
   ],
   "source": [
    "df = pd.read_csv('data_lab9.csv')\n",
    "data_json = df.to_json(orient=\"records\")\n",
    "df.head()"
   ]
  },
  {
   "cell_type": "code",
   "execution_count": 6,
   "id": "f03f531e-d110-4ce3-a21c-da9c2a02c525",
   "metadata": {},
   "outputs": [],
   "source": [
    "data_prompt = f\"Analyze the provided data and determine the relationship between foreign population and AFD support in German states. Provide Python-generated charts to support your conclusion. Data: {data_json}\"\n",
    "# print(prompt)"
   ]
  },
  {
   "cell_type": "code",
   "execution_count": 7,
   "id": "811e934c-9456-4890-aba1-5a79e3fa3551",
   "metadata": {},
   "outputs": [],
   "source": [
    "def openai_gpt_help(prompt):\n",
    "    messages = [{\"role\": \"user\", \"content\": prompt}]\n",
    "    response = client.chat.completions.create(\n",
    "        model='gpt-4o',\n",
    "        messages=messages,\n",
    "        temperature = 0\n",
    "    )\n",
    "    token_usage = response.usage\n",
    "    \n",
    "    pprint(f\"Tokens used: {token_usage}\")\n",
    "\n",
    "    return response.choices[0].message.content"
   ]
  },
  {
   "cell_type": "code",
   "execution_count": 8,
   "id": "224ca1b7-e1ec-4032-a3de-e6a4190de976",
   "metadata": {},
   "outputs": [
    {
     "name": "stdout",
     "output_type": "stream",
     "text": [
      "('Tokens used: CompletionUsage(completion_tokens=1111, prompt_tokens=578, '\n",
      " 'total_tokens=1689, '\n",
      " 'completion_tokens_details=CompletionTokensDetails(accepted_prediction_tokens=0, '\n",
      " 'audio_tokens=0, reasoning_tokens=0, rejected_prediction_tokens=0), '\n",
      " 'prompt_tokens_details=PromptTokensDetails(audio_tokens=0, cached_tokens=0))')\n"
     ]
    }
   ],
   "source": [
    "gpt_result = openai_gpt_help(prompt=data_prompt)"
   ]
  },
  {
   "cell_type": "code",
   "execution_count": 9,
   "id": "05703fba-c425-467e-9f43-8a804f583ee3",
   "metadata": {},
   "outputs": [
    {
     "data": {
      "text/markdown": [
       "To analyze the relationship between the foreign population and AfD support in German states, we can use Python to create a scatter plot. This will help visualize any correlation between the percentage of the foreign population and the percentage of votes for the AfD party. Let's proceed with the analysis using Python and the `matplotlib` and `pandas` libraries.\n",
       "\n",
       "```python\n",
       "import pandas as pd\n",
       "import matplotlib.pyplot as plt\n",
       "\n",
       "# Data\n",
       "data = [\n",
       "    {\"State\": \"Baden-Württemberg\", \"Votes\": 1256267, \"foreign_pop_edited\": 0.185, \"Location\": \"West\", \"afd_percent_edited\": 0.198},\n",
       "    {\"State\": \"Bavaria\", \"Votes\": 1515533, \"foreign_pop_edited\": 0.16, \"Location\": \"West\", \"afd_percent_edited\": 0.19},\n",
       "    {\"State\": \"Berlin\", \"Votes\": 296999, \"foreign_pop_edited\": 0.233, \"Location\": \"East\", \"afd_percent_edited\": 0.152},\n",
       "    {\"State\": \"Brandenburg\", \"Votes\": 535279, \"foreign_pop_edited\": 0.075, \"Location\": \"East\", \"afd_percent_edited\": 0.325},\n",
       "    {\"State\": \"Bremen\", \"Votes\": 52494, \"foreign_pop_edited\": 0.219, \"Location\": \"West\", \"afd_percent_edited\": 0.151},\n",
       "    {\"State\": \"Hamburg\", \"Votes\": 113463, \"foreign_pop_edited\": 0.2, \"Location\": \"West\", \"afd_percent_edited\": 0.109},\n",
       "    {\"State\": \"Hesse\", \"Votes\": 636771, \"foreign_pop_edited\": 0.194, \"Location\": \"West\", \"afd_percent_edited\": 0.178},\n",
       "    {\"State\": \"Mecklenburg-Vorpommern\", \"Votes\": 357356, \"foreign_pop_edited\": 0.07, \"Location\": \"East\", \"afd_percent_edited\": 0.35},\n",
       "    {\"State\": \"Lower Saxony\", \"Votes\": 894057, \"foreign_pop_edited\": 0.123, \"Location\": \"West\", \"afd_percent_edited\": 0.178},\n",
       "    {\"State\": \"North Rhine-Westphalia\", \"Votes\": 1769822, \"foreign_pop_edited\": 0.161, \"Location\": \"West\", \"afd_percent_edited\": 0.168},\n",
       "    {\"State\": \"Rhineland-Palatinate\", \"Votes\": 498733, \"foreign_pop_edited\": 0.142, \"Location\": \"West\", \"afd_percent_edited\": 0.201},\n",
       "    {\"State\": \"Saarland\", \"Votes\": 129201, \"foreign_pop_edited\": 0.148, \"Location\": \"West\", \"afd_percent_edited\": 0.216},\n",
       "    {\"State\": \"Saxony\", \"Votes\": 958363, \"foreign_pop_edited\": 0.081, \"Location\": \"East\", \"afd_percent_edited\": 0.373},\n",
       "    {\"State\": \"Saxony-Anhalt\", \"Votes\": 496100, \"foreign_pop_edited\": 0.08, \"Location\": \"East\", \"afd_percent_edited\": 0.371},\n",
       "    {\"State\": \"Schleswig-Holstein\", \"Votes\": 306191, \"foreign_pop_edited\": 0.107, \"Location\": \"West\", \"afd_percent_edited\": 0.163},\n",
       "    {\"State\": \"Thuringia\", \"Votes\": 510519, \"foreign_pop_edited\": 0.083, \"Location\": \"East\", \"afd_percent_edited\": 0.386}\n",
       "]\n",
       "\n",
       "# Create a DataFrame\n",
       "df = pd.DataFrame(data)\n",
       "\n",
       "# Plot\n",
       "plt.figure(figsize=(10, 6))\n",
       "for location, color in zip(['West', 'East'], ['blue', 'red']):\n",
       "    subset = df[df['Location'] == location]\n",
       "    plt.scatter(subset['foreign_pop_edited'], subset['afd_percent_edited'], label=location, color=color)\n",
       "\n",
       "plt.title('Relationship between Foreign Population and AfD Support in German States')\n",
       "plt.xlabel('Foreign Population (%)')\n",
       "plt.ylabel('AfD Support (%)')\n",
       "plt.legend(title='Location')\n",
       "plt.grid(True)\n",
       "plt.show()\n",
       "```\n",
       "\n",
       "### Analysis\n",
       "\n",
       "- **Scatter Plot**: The scatter plot shows the relationship between the percentage of the foreign population and the percentage of AfD support in each state. The data points are color-coded based on whether the state is in the East or West of Germany.\n",
       "\n",
       "- **Observations**:\n",
       "  - States in the East (red) generally have a lower percentage of foreign population and higher AfD support.\n",
       "  - States in the West (blue) tend to have a higher percentage of foreign population and lower AfD support.\n",
       "  - There appears to be a negative correlation between the foreign population percentage and AfD support, especially when considering the East and West separately.\n",
       "\n",
       "This analysis suggests that states with a higher foreign population percentage tend to have lower support for the AfD party, particularly in the West. Conversely, states with a lower foreign population percentage, especially in the East, tend to have higher AfD support."
      ],
      "text/plain": [
       "<IPython.core.display.Markdown object>"
      ]
     },
     "metadata": {},
     "output_type": "display_data"
    }
   ],
   "source": [
    "display(Markdown(gpt_result))"
   ]
  },
  {
   "cell_type": "markdown",
   "id": "b4af08ee-4b86-4898-9a39-cf745b6bd389",
   "metadata": {},
   "source": [
    "## Reflection\n",
    "\n",
    "#### How the model's reasoning supported your analysis\n",
    "The model's reasoning supported the findings of our capstone project- that East German states have lower percentages of foreign population but higher AfD support, and vice versa (where Western states support the AfD less and have greater foreign populations). The model came to the same conclusions considering the data and outlined a negative correlation between foreign population and AfD support (when one goes in one direction, another goes in the other).\n",
    "#### Whether this approach could be applied to real-world intelligence workflows\n",
    "This approach could definitely be applied to real world intelligence flows. This approach came to the same conclusion that we came to through past data visualizations and further research. There is a vast area of opportunity for similar models to be created for varying topics. \n",
    "#### Any limitations or ethical concerns you encountered\n",
    "There were no obvious limitations or ethical concerns within this specific model, but there is opportunity for it. The way that someone constructs their prompt leaves room for bias and ethical concerns, potentially skewing the results a certain way."
   ]
  }
 ],
 "metadata": {
  "kernelspec": {
   "display_name": "conda_python3",
   "language": "python",
   "name": "conda_python3"
  },
  "language_info": {
   "codemirror_mode": {
    "name": "ipython",
    "version": 3
   },
   "file_extension": ".py",
   "mimetype": "text/x-python",
   "name": "python",
   "nbconvert_exporter": "python",
   "pygments_lexer": "ipython3",
   "version": "3.10.16"
  }
 },
 "nbformat": 4,
 "nbformat_minor": 5
}
